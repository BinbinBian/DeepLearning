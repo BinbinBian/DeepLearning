{
 "metadata": {
  "name": "",
  "signature": "sha256:bd47538f6f3faebc6e650500fef81e71ba9e3b4973a677e2b09ab56bc0549372"
 },
 "nbformat": 3,
 "nbformat_minor": 0,
 "worksheets": [
  {
   "cells": [
    {
     "cell_type": "code",
     "collapsed": false,
     "input": [
      "cd ~/git/DeepLearning_python"
     ],
     "language": "python",
     "metadata": {},
     "outputs": [
      {
       "output_type": "stream",
       "stream": "stdout",
       "text": [
        "C:\\Users\\dongykan\\git\\DeepLearning_python\n"
       ]
      }
     ],
     "prompt_number": 65
    },
    {
     "cell_type": "code",
     "collapsed": false,
     "input": [
      "run RBM.py"
     ],
     "language": "python",
     "metadata": {},
     "outputs": [
      {
       "output_type": "stream",
       "stream": "stderr",
       "text": [
        "Training epoch 0, cost is 0.0025446, time is 1.01, entropy: 92.24, energy: -119.25 \n",
        "Training epoch 1, cost is 0.0018245, time is 1.04, entropy: 88.19, energy: -129.90 "
       ]
      },
      {
       "output_type": "stream",
       "stream": "stderr",
       "text": [
        "\n",
        "Training epoch 2, cost is 0.0017770, time is 1.05, entropy: 87.18, energy: -125.61 "
       ]
      },
      {
       "output_type": "stream",
       "stream": "stderr",
       "text": [
        "\n",
        "Training epoch 3, cost is 0.0017545, time is 1.04, entropy: 87.43, energy: -123.00 "
       ]
      },
      {
       "output_type": "stream",
       "stream": "stderr",
       "text": [
        "\n",
        "Training epoch 4, cost is 0.0017361, time is 1.02, entropy: 87.07, energy: -122.86 "
       ]
      },
      {
       "output_type": "stream",
       "stream": "stderr",
       "text": [
        "\n",
        "Training epoch 5, cost is 0.0017406, time is 1.01, entropy: 83.79, energy: -134.19 "
       ]
      },
      {
       "output_type": "stream",
       "stream": "stderr",
       "text": [
        "\n",
        "Training epoch 6, cost is 0.0017192, time is 1.01, entropy: 85.78, energy: -126.83 "
       ]
      },
      {
       "output_type": "stream",
       "stream": "stderr",
       "text": [
        "\n",
        "Training epoch 7, cost is 0.0017051, time is 1.01, entropy: 85.13, energy: -129.42 "
       ]
      },
      {
       "output_type": "stream",
       "stream": "stderr",
       "text": [
        "\n",
        "Training epoch 8, cost is 0.0016972, time is 1.02, entropy: 85.38, energy: -130.12 "
       ]
      },
      {
       "output_type": "stream",
       "stream": "stderr",
       "text": [
        "\n",
        "Training epoch 9, cost is 0.0016977, time is 1.13, entropy: 84.58, energy: -128.21 "
       ]
      },
      {
       "output_type": "stream",
       "stream": "stderr",
       "text": [
        "\n",
        "Training epoch 10, cost is 0.0016932, time is 1.02, entropy: 84.38, energy: -131.24 "
       ]
      },
      {
       "output_type": "stream",
       "stream": "stderr",
       "text": [
        "\n",
        "Training epoch 11, cost is 0.0016915, time is 1.03, entropy: 84.20, energy: -129.80 "
       ]
      },
      {
       "output_type": "stream",
       "stream": "stderr",
       "text": [
        "\n",
        "Training epoch 12, cost is 0.0016827, time is 1.05, entropy: 83.26, energy: -128.94 "
       ]
      },
      {
       "output_type": "stream",
       "stream": "stderr",
       "text": [
        "\n",
        "Training epoch 13, cost is 0.0016849, time is 1.03, entropy: 84.90, energy: -130.29 "
       ]
      },
      {
       "output_type": "stream",
       "stream": "stderr",
       "text": [
        "\n",
        "Training epoch 14, cost is 0.0016822, time is 1.02, entropy: 83.64, energy: -132.36 "
       ]
      },
      {
       "output_type": "stream",
       "stream": "stderr",
       "text": [
        "\n",
        "Training epoch 15, cost is 0.0016831, time is 1.03, entropy: 83.56, energy: -128.37 "
       ]
      },
      {
       "output_type": "stream",
       "stream": "stderr",
       "text": [
        "\n",
        "Training epoch 16, cost is 0.0016789, time is 1.06, entropy: 83.29, energy: -129.97 "
       ]
      },
      {
       "output_type": "stream",
       "stream": "stderr",
       "text": [
        "\n",
        "Training epoch 17, cost is 0.0016774, time is 1.04, entropy: 83.58, energy: -133.35 "
       ]
      },
      {
       "output_type": "stream",
       "stream": "stderr",
       "text": [
        "\n",
        "Training epoch 18, cost is 0.0016771, time is 1.02, entropy: 83.85, energy: -131.03 "
       ]
      },
      {
       "output_type": "stream",
       "stream": "stderr",
       "text": [
        "\n",
        "Training epoch 19, cost is 0.0016773, time is 1.03, entropy: 82.54, energy: -130.68 "
       ]
      },
      {
       "output_type": "stream",
       "stream": "stdout",
       "text": [
        "... loading data\n",
        "Training took 0.702375 minutes"
       ]
      },
      {
       "output_type": "stream",
       "stream": "stdout",
       "text": [
        "\n"
       ]
      },
      {
       "output_type": "stream",
       "stream": "stderr",
       "text": [
        "\n"
       ]
      }
     ],
     "prompt_number": 66
    },
    {
     "cell_type": "code",
     "collapsed": false,
     "input": [
      "from IPython.display import Image, display\n",
      "\n",
      "for i in range(0, 20, 5):\n",
      "    print ('C:/Users/dongykan/git/DeepLearning_python/result/filters_at_epoch_%d.jpg' %i)\n",
      "    img = Image('C:/Users/dongykan/git/DeepLearning_python/result/filters_at_epoch_%d.jpg' %i)\n",
      "    display(img)\n"
     ],
     "language": "python",
     "metadata": {},
     "outputs": [
      {
       "output_type": "stream",
       "stream": "stdout",
       "text": [
        "C:/Users/dongykan/git/DeepLearning_python/result/filters_at_epoch_0.jpg\n"
       ]
      },
      {
       "jpeg": "[encoded data removed]",
       "metadata": {},
       "output_type": "display_data",
       "text": [
        "<IPython.core.display.Image at 0xa904e48>"
       ]
      },
      {
       "output_type": "stream",
       "stream": "stdout",
       "text": [
        "C:/Users/dongykan/git/DeepLearning_python/result/filters_at_epoch_5.jpg\n"
       ]
      },
      {
       "jpeg": "[encoded data removed]",
       "metadata": {},
       "output_type": "display_data",
       "text": [
        "<IPython.core.display.Image at 0xa92d0f0>"
       ]
      },
      {
       "output_type": "stream",
       "stream": "stdout",
       "text": [
        "C:/Users/dongykan/git/DeepLearning_python/result/filters_at_epoch_10.jpg\n"
       ]
      },
      {
       "jpeg": "[encoded data removed]",
       "metadata": {},
       "output_type": "display_data",
       "text": [
        "<IPython.core.display.Image at 0xa92dc88>"
       ]
      },
      {
       "output_type": "stream",
       "stream": "stdout",
       "text": [
        "C:/Users/dongykan/git/DeepLearning_python/result/filters_at_epoch_15.jpg\n"
       ]
      },
      {
       "jpeg": "[encoded data removed]",
       "metadata": {},
       "output_type": "display_data",
       "text": [
        "<IPython.core.display.Image at 0xa92d208>"
       ]
      }
     ],
     "prompt_number": 72
    },
    {
     "cell_type": "code",
     "collapsed": false,
     "input": [
      "cd ~/git/DeepLearning_python"
     ],
     "language": "python",
     "metadata": {},
     "outputs": [
      {
       "output_type": "stream",
       "stream": "stdout",
       "text": [
        "C:\\Users\\dongykan\\git\\DeepLearning_python\n"
       ]
      }
     ],
     "prompt_number": 75
    },
    {
     "cell_type": "code",
     "collapsed": false,
     "input": [
      "run RBM.py"
     ],
     "language": "python",
     "metadata": {},
     "outputs": [
      {
       "output_type": "stream",
       "stream": "stderr",
       "text": [
        "ERROR: File `u'RBM.py'` not found.\n"
       ]
      }
     ],
     "prompt_number": 79
    },
    {
     "cell_type": "code",
     "collapsed": false,
     "input": [
      "run DBN.py"
     ],
     "language": "python",
     "metadata": {},
     "outputs": [
      {
       "output_type": "stream",
       "stream": "stderr",
       "text": [
        "ERROR: File `u'DBN.py'` not found.\n"
       ]
      }
     ],
     "prompt_number": 80
    },
    {
     "cell_type": "code",
     "collapsed": false,
     "input": [
      "cd ~/git/DeepLearning_python"
     ],
     "language": "python",
     "metadata": {},
     "outputs": [
      {
       "output_type": "stream",
       "stream": "stdout",
       "text": [
        "C:\\Users\\dongykan\\git\\DeepLearning_python\n"
       ]
      }
     ],
     "prompt_number": 81
    },
    {
     "cell_type": "code",
     "collapsed": false,
     "input": [
      "run DBN.py"
     ],
     "language": "python",
     "metadata": {},
     "outputs": [
      {
       "output_type": "stream",
       "stream": "stdout",
       "text": [
        "... loading data\n",
        "... building the model"
       ]
      },
      {
       "output_type": "stream",
       "stream": "stdout",
       "text": [
        "\n",
        "... getting the pretraining functions"
       ]
      },
      {
       "output_type": "stream",
       "stream": "stderr",
       "text": [
        "\tPre-training layer [0], epoch 0, cost 0.0013766m, time is 0.17\n",
        "\tPre-training layer [0], epoch 1, cost 0.0011678m, time is 0.17"
       ]
      },
      {
       "output_type": "stream",
       "stream": "stderr",
       "text": [
        "\n",
        "\tPre-training layer [0], epoch 2, cost 0.0010589m, time is 0.17"
       ]
      },
      {
       "output_type": "stream",
       "stream": "stderr",
       "text": [
        "\n",
        "\tPre-training layer [0], epoch 3, cost 0.0009934m, time is 0.17"
       ]
      },
      {
       "output_type": "stream",
       "stream": "stderr",
       "text": [
        "\n",
        "\tPre-training layer [0], epoch 4, cost 0.0009515m, time is 0.16"
       ]
      },
      {
       "output_type": "stream",
       "stream": "stderr",
       "text": [
        "\n",
        "\tPre-training layer [0], epoch 5, cost 0.0009179m, time is 0.16"
       ]
      },
      {
       "output_type": "stream",
       "stream": "stderr",
       "text": [
        "\n",
        "\tPre-training layer [0], epoch 6, cost 0.0008964m, time is 0.16"
       ]
      },
      {
       "output_type": "stream",
       "stream": "stderr",
       "text": [
        "\n",
        "\tPre-training layer [0], epoch 7, cost 0.0008698m, time is 0.16"
       ]
      },
      {
       "output_type": "stream",
       "stream": "stderr",
       "text": [
        "\n",
        "\tPre-training layer [0], epoch 8, cost 0.0008499m, time is 0.16"
       ]
      },
      {
       "output_type": "stream",
       "stream": "stderr",
       "text": [
        "\n",
        "\tPre-training layer [0], epoch 9, cost 0.0008316m, time is 0.17"
       ]
      },
      {
       "output_type": "stream",
       "stream": "stderr",
       "text": [
        "\n",
        "\tPre-training layer [0], epoch 10, cost 0.0008180m, time is 0.16"
       ]
      },
      {
       "output_type": "stream",
       "stream": "stderr",
       "text": [
        "\n",
        "\tPre-training layer [0], epoch 11, cost 0.0008094m, time is 0.16"
       ]
      },
      {
       "output_type": "stream",
       "stream": "stderr",
       "text": [
        "\n",
        "\tPre-training layer [0], epoch 12, cost 0.0007940m, time is 0.16"
       ]
      },
      {
       "output_type": "stream",
       "stream": "stderr",
       "text": [
        "\n",
        "\tPre-training layer [0], epoch 13, cost 0.0007842m, time is 0.16"
       ]
      },
      {
       "output_type": "stream",
       "stream": "stderr",
       "text": [
        "\n",
        "\tPre-training layer [0], epoch 14, cost 0.0007786m, time is 0.16"
       ]
      },
      {
       "output_type": "stream",
       "stream": "stderr",
       "text": [
        "\n",
        "\tPre-training layer [0], epoch 15, cost 0.0007649m, time is 0.16"
       ]
      },
      {
       "output_type": "stream",
       "stream": "stderr",
       "text": [
        "\n",
        "\tPre-training layer [0], epoch 16, cost 0.0007599m, time is 0.17"
       ]
      },
      {
       "output_type": "stream",
       "stream": "stderr",
       "text": [
        "\n",
        "\tPre-training layer [0], epoch 17, cost 0.0007511m, time is 0.16"
       ]
      },
      {
       "output_type": "stream",
       "stream": "stderr",
       "text": [
        "\n",
        "\tPre-training layer [0], epoch 18, cost 0.0007450m, time is 0.16"
       ]
      },
      {
       "output_type": "stream",
       "stream": "stderr",
       "text": [
        "\n",
        "\tPre-training layer [0], epoch 19, cost 0.0007383m, time is 0.16"
       ]
      },
      {
       "output_type": "stream",
       "stream": "stderr",
       "text": [
        "\n",
        "\tPre-training layer [0], epoch 20, cost 0.0007304m, time is 0.16"
       ]
      },
      {
       "output_type": "stream",
       "stream": "stderr",
       "text": [
        "\n",
        "\tPre-training layer [0], epoch 21, cost 0.0007242m, time is 0.16"
       ]
      },
      {
       "output_type": "stream",
       "stream": "stderr",
       "text": [
        "\n",
        "\tPre-training layer [0], epoch 22, cost 0.0007231m, time is 0.17"
       ]
      },
      {
       "output_type": "stream",
       "stream": "stderr",
       "text": [
        "\n",
        "\tPre-training layer [0], epoch 23, cost 0.0007184m, time is 0.16"
       ]
      },
      {
       "output_type": "stream",
       "stream": "stderr",
       "text": [
        "\n",
        "\tPre-training layer [0], epoch 24, cost 0.0007083m, time is 0.16"
       ]
      },
      {
       "output_type": "stream",
       "stream": "stderr",
       "text": [
        "\n",
        "\tPre-training layer [0], epoch 25, cost 0.0007068m, time is 0.17"
       ]
      },
      {
       "output_type": "stream",
       "stream": "stderr",
       "text": [
        "\n",
        "\tPre-training layer [0], epoch 26, cost 0.0007055m, time is 0.16"
       ]
      },
      {
       "output_type": "stream",
       "stream": "stderr",
       "text": [
        "\n",
        "\tPre-training layer [0], epoch 27, cost 0.0007004m, time is 0.16"
       ]
      },
      {
       "output_type": "stream",
       "stream": "stderr",
       "text": [
        "\n",
        "\tPre-training layer [0], epoch 28, cost 0.0006973m, time is 0.18"
       ]
      },
      {
       "output_type": "stream",
       "stream": "stderr",
       "text": [
        "\n",
        "\tPre-training layer [0], epoch 29, cost 0.0006928m, time is 0.16"
       ]
      },
      {
       "output_type": "stream",
       "stream": "stderr",
       "text": [
        "\n",
        "\tPre-training layer [0], epoch 30, cost 0.0006907m, time is 0.16"
       ]
      },
      {
       "output_type": "stream",
       "stream": "stderr",
       "text": [
        "\n",
        "\tPre-training layer [0], epoch 31, cost 0.0006894m, time is 0.16"
       ]
      },
      {
       "output_type": "stream",
       "stream": "stderr",
       "text": [
        "\n",
        "\tPre-training layer [0], epoch 32, cost 0.0006862m, time is 0.16"
       ]
      },
      {
       "output_type": "stream",
       "stream": "stderr",
       "text": [
        "\n",
        "\tPre-training layer [0], epoch 33, cost 0.0006811m, time is 0.16"
       ]
      },
      {
       "output_type": "stream",
       "stream": "stderr",
       "text": [
        "\n",
        "\tPre-training layer [0], epoch 34, cost 0.0006770m, time is 0.17"
       ]
      },
      {
       "output_type": "stream",
       "stream": "stderr",
       "text": [
        "\n",
        "\tPre-training layer [0], epoch 35, cost 0.0006765m, time is 0.16"
       ]
      },
      {
       "output_type": "stream",
       "stream": "stderr",
       "text": [
        "\n",
        "\tPre-training layer [0], epoch 36, cost 0.0006719m, time is 0.17"
       ]
      },
      {
       "output_type": "stream",
       "stream": "stderr",
       "text": [
        "\n",
        "\tPre-training layer [0], epoch 37, cost 0.0006715m, time is 0.17"
       ]
      },
      {
       "output_type": "stream",
       "stream": "stderr",
       "text": [
        "\n",
        "\tPre-training layer [0], epoch 38, cost 0.0006670m, time is 0.16"
       ]
      },
      {
       "output_type": "stream",
       "stream": "stderr",
       "text": [
        "\n",
        "\tPre-training layer [0], epoch 39, cost 0.0006651m, time is 0.16"
       ]
      },
      {
       "output_type": "stream",
       "stream": "stderr",
       "text": [
        "\n",
        "\tPre-training layer [0], epoch 40, cost 0.0006658m, time is 0.17"
       ]
      },
      {
       "output_type": "stream",
       "stream": "stderr",
       "text": [
        "\n",
        "\tPre-training layer [0], epoch 41, cost 0.0006646m, time is 0.16"
       ]
      },
      {
       "output_type": "stream",
       "stream": "stderr",
       "text": [
        "\n",
        "\tPre-training layer [0], epoch 42, cost 0.0006611m, time is 0.16"
       ]
      },
      {
       "output_type": "stream",
       "stream": "stderr",
       "text": [
        "\n",
        "\tPre-training layer [0], epoch 43, cost 0.0006578m, time is 0.16"
       ]
      },
      {
       "output_type": "stream",
       "stream": "stderr",
       "text": [
        "\n",
        "\tPre-training layer [0], epoch 44, cost 0.0006577m, time is 0.17"
       ]
      },
      {
       "output_type": "stream",
       "stream": "stderr",
       "text": [
        "\n",
        "\tPre-training layer [0], epoch 45, cost 0.0006565m, time is 0.17"
       ]
      },
      {
       "output_type": "stream",
       "stream": "stderr",
       "text": [
        "\n",
        "\tPre-training layer [0], epoch 46, cost 0.0006559m, time is 0.20"
       ]
      },
      {
       "output_type": "stream",
       "stream": "stderr",
       "text": [
        "\n",
        "\tPre-training layer [0], epoch 47, cost 0.0006509m, time is 0.18"
       ]
      },
      {
       "output_type": "stream",
       "stream": "stderr",
       "text": [
        "\n",
        "\tPre-training layer [0], epoch 48, cost 0.0006496m, time is 0.19"
       ]
      },
      {
       "output_type": "stream",
       "stream": "stderr",
       "text": [
        "\n",
        "\tPre-training layer [0], epoch 49, cost 0.0006487m, time is 0.17"
       ]
      },
      {
       "output_type": "stream",
       "stream": "stderr",
       "text": [
        "\n",
        "\tPre-training layer [1], epoch 0, cost 0.0022291m, time is 0.35"
       ]
      },
      {
       "output_type": "stream",
       "stream": "stderr",
       "text": [
        "\n",
        "\tPre-training layer [1], epoch 1, cost 0.0021235m, time is 0.35"
       ]
      },
      {
       "output_type": "stream",
       "stream": "stderr",
       "text": [
        "\n",
        "\tPre-training layer [1], epoch 2, cost 0.0020820m, time is 0.34"
       ]
      },
      {
       "output_type": "stream",
       "stream": "stderr",
       "text": [
        "\n",
        "\tPre-training layer [1], epoch 3, cost 0.0020653m, time is 0.35"
       ]
      },
      {
       "output_type": "stream",
       "stream": "stderr",
       "text": [
        "\n",
        "\tPre-training layer [1], epoch 4, cost 0.0020463m, time is 0.34"
       ]
      },
      {
       "output_type": "stream",
       "stream": "stderr",
       "text": [
        "\n",
        "\tPre-training layer [1], epoch 5, cost 0.0020354m, time is 0.34"
       ]
      },
      {
       "output_type": "stream",
       "stream": "stderr",
       "text": [
        "\n",
        "\tPre-training layer [1], epoch 6, cost 0.0020299m, time is 0.34"
       ]
      },
      {
       "output_type": "stream",
       "stream": "stderr",
       "text": [
        "\n",
        "\tPre-training layer [1], epoch 7, cost 0.0020313m, time is 0.34"
       ]
      },
      {
       "output_type": "stream",
       "stream": "stderr",
       "text": [
        "\n",
        "\tPre-training layer [1], epoch 8, cost 0.0020284m, time is 0.34"
       ]
      },
      {
       "output_type": "stream",
       "stream": "stderr",
       "text": [
        "\n",
        "\tPre-training layer [1], epoch 9, cost 0.0020212m, time is 0.36"
       ]
      },
      {
       "output_type": "stream",
       "stream": "stderr",
       "text": [
        "\n",
        "\tPre-training layer [1], epoch 10, cost 0.0020178m, time is 0.34"
       ]
      },
      {
       "output_type": "stream",
       "stream": "stderr",
       "text": [
        "\n",
        "\tPre-training layer [1], epoch 11, cost 0.0020207m, time is 0.34"
       ]
      },
      {
       "output_type": "stream",
       "stream": "stderr",
       "text": [
        "\n",
        "\tPre-training layer [1], epoch 12, cost 0.0020282m, time is 0.35"
       ]
      },
      {
       "output_type": "stream",
       "stream": "stderr",
       "text": [
        "\n",
        "\tPre-training layer [1], epoch 13, cost 0.0020203m, time is 0.34"
       ]
      },
      {
       "output_type": "stream",
       "stream": "stderr",
       "text": [
        "\n",
        "\tPre-training layer [1], epoch 14, cost 0.0020228m, time is 0.34"
       ]
      },
      {
       "output_type": "stream",
       "stream": "stderr",
       "text": [
        "\n",
        "\tPre-training layer [1], epoch 15, cost 0.0020176m, time is 0.35"
       ]
      },
      {
       "output_type": "stream",
       "stream": "stderr",
       "text": [
        "\n",
        "\tPre-training layer [1], epoch 16, cost 0.0020148m, time is 0.34"
       ]
      },
      {
       "output_type": "stream",
       "stream": "stderr",
       "text": [
        "\n",
        "\tPre-training layer [1], epoch 17, cost 0.0020141m, time is 0.35"
       ]
      },
      {
       "output_type": "stream",
       "stream": "stderr",
       "text": [
        "\n",
        "\tPre-training layer [1], epoch 18, cost 0.0020165m, time is 0.35"
       ]
      },
      {
       "output_type": "stream",
       "stream": "stderr",
       "text": [
        "\n",
        "\tPre-training layer [1], epoch 19, cost 0.0020168m, time is 0.34"
       ]
      },
      {
       "output_type": "stream",
       "stream": "stderr",
       "text": [
        "\n",
        "\tPre-training layer [1], epoch 20, cost 0.0020161m, time is 0.35"
       ]
      },
      {
       "output_type": "stream",
       "stream": "stderr",
       "text": [
        "\n",
        "\tPre-training layer [1], epoch 21, cost 0.0020142m, time is 0.35"
       ]
      },
      {
       "output_type": "stream",
       "stream": "stderr",
       "text": [
        "\n",
        "\tPre-training layer [1], epoch 22, cost 0.0020122m, time is 0.34"
       ]
      },
      {
       "output_type": "stream",
       "stream": "stderr",
       "text": [
        "\n",
        "\tPre-training layer [1], epoch 23, cost 0.0020149m, time is 0.34"
       ]
      },
      {
       "output_type": "stream",
       "stream": "stderr",
       "text": [
        "\n",
        "\tPre-training layer [1], epoch 24, cost 0.0020096m, time is 0.35"
       ]
      },
      {
       "output_type": "stream",
       "stream": "stderr",
       "text": [
        "\n",
        "\tPre-training layer [1], epoch 25, cost 0.0020111m, time is 0.34"
       ]
      },
      {
       "output_type": "stream",
       "stream": "stderr",
       "text": [
        "\n",
        "\tPre-training layer [1], epoch 26, cost 0.0020147m, time is 0.34"
       ]
      },
      {
       "output_type": "stream",
       "stream": "stderr",
       "text": [
        "\n",
        "\tPre-training layer [1], epoch 27, cost 0.0020047m, time is 0.35"
       ]
      },
      {
       "output_type": "stream",
       "stream": "stderr",
       "text": [
        "\n",
        "\tPre-training layer [1], epoch 28, cost 0.0020122m, time is 0.34"
       ]
      },
      {
       "output_type": "stream",
       "stream": "stderr",
       "text": [
        "\n",
        "\tPre-training layer [1], epoch 29, cost 0.0020153m, time is 0.38"
       ]
      },
      {
       "output_type": "stream",
       "stream": "stderr",
       "text": [
        "\n",
        "\tPre-training layer [1], epoch 30, cost 0.0020096m, time is 0.38"
       ]
      },
      {
       "output_type": "stream",
       "stream": "stderr",
       "text": [
        "\n",
        "\tPre-training layer [1], epoch 31, cost 0.0020091m, time is 0.35"
       ]
      },
      {
       "output_type": "stream",
       "stream": "stderr",
       "text": [
        "\n",
        "\tPre-training layer [1], epoch 32, cost 0.0020088m, time is 0.35"
       ]
      },
      {
       "output_type": "stream",
       "stream": "stderr",
       "text": [
        "\n",
        "\tPre-training layer [1], epoch 33, cost 0.0020128m, time is 0.34"
       ]
      },
      {
       "output_type": "stream",
       "stream": "stderr",
       "text": [
        "\n",
        "\tPre-training layer [1], epoch 34, cost 0.0020118m, time is 0.34"
       ]
      },
      {
       "output_type": "stream",
       "stream": "stderr",
       "text": [
        "\n",
        "\tPre-training layer [1], epoch 35, cost 0.0020086m, time is 0.35"
       ]
      },
      {
       "output_type": "stream",
       "stream": "stderr",
       "text": [
        "\n",
        "\tPre-training layer [1], epoch 36, cost 0.0020117m, time is 0.34"
       ]
      },
      {
       "output_type": "stream",
       "stream": "stderr",
       "text": [
        "\n",
        "\tPre-training layer [1], epoch 37, cost 0.0020111m, time is 0.34"
       ]
      },
      {
       "output_type": "stream",
       "stream": "stderr",
       "text": [
        "\n",
        "\tPre-training layer [1], epoch 38, cost 0.0020106m, time is 0.34"
       ]
      },
      {
       "output_type": "stream",
       "stream": "stderr",
       "text": [
        "\n",
        "\tPre-training layer [1], epoch 39, cost 0.0020092m, time is 0.34"
       ]
      },
      {
       "output_type": "stream",
       "stream": "stderr",
       "text": [
        "\n",
        "\tPre-training layer [1], epoch 40, cost 0.0020107m, time is 0.34"
       ]
      },
      {
       "output_type": "stream",
       "stream": "stderr",
       "text": [
        "\n",
        "\tPre-training layer [1], epoch 41, cost 0.0020034m, time is 0.34"
       ]
      },
      {
       "output_type": "stream",
       "stream": "stderr",
       "text": [
        "\n",
        "\tPre-training layer [1], epoch 42, cost 0.0020083m, time is 0.34"
       ]
      },
      {
       "output_type": "stream",
       "stream": "stderr",
       "text": [
        "\n",
        "\tPre-training layer [1], epoch 43, cost 0.0020099m, time is 0.34"
       ]
      },
      {
       "output_type": "stream",
       "stream": "stderr",
       "text": [
        "\n",
        "\tPre-training layer [1], epoch 44, cost 0.0020122m, time is 0.34"
       ]
      },
      {
       "output_type": "stream",
       "stream": "stderr",
       "text": [
        "\n",
        "\tPre-training layer [1], epoch 45, cost 0.0020162m, time is 0.34"
       ]
      },
      {
       "output_type": "stream",
       "stream": "stderr",
       "text": [
        "\n",
        "\tPre-training layer [1], epoch 46, cost 0.0020086m, time is 0.34"
       ]
      },
      {
       "output_type": "stream",
       "stream": "stderr",
       "text": [
        "\n",
        "\tPre-training layer [1], epoch 47, cost 0.0020116m, time is 0.35"
       ]
      },
      {
       "output_type": "stream",
       "stream": "stderr",
       "text": [
        "\n",
        "\tPre-training layer [1], epoch 48, cost 0.0020058m, time is 0.34"
       ]
      },
      {
       "output_type": "stream",
       "stream": "stderr",
       "text": [
        "\n",
        "\tPre-training layer [1], epoch 49, cost 0.0020095m, time is 0.34"
       ]
      },
      {
       "output_type": "stream",
       "stream": "stderr",
       "text": [
        "\n",
        "\tPre-training layer [2], epoch 0, cost 0.0022303m, time is 0.35"
       ]
      },
      {
       "output_type": "stream",
       "stream": "stderr",
       "text": [
        "\n",
        "\tPre-training layer [2], epoch 1, cost 0.0021243m, time is 0.35"
       ]
      },
      {
       "output_type": "stream",
       "stream": "stderr",
       "text": [
        "\n",
        "\tPre-training layer [2], epoch 2, cost 0.0020771m, time is 0.35"
       ]
      },
      {
       "output_type": "stream",
       "stream": "stderr",
       "text": [
        "\n",
        "\tPre-training layer [2], epoch 3, cost 0.0020527m, time is 0.35"
       ]
      },
      {
       "output_type": "stream",
       "stream": "stderr",
       "text": [
        "\n",
        "\tPre-training layer [2], epoch 4, cost 0.0020420m, time is 0.35"
       ]
      },
      {
       "output_type": "stream",
       "stream": "stderr",
       "text": [
        "\n",
        "\tPre-training layer [2], epoch 5, cost 0.0020444m, time is 0.34"
       ]
      },
      {
       "output_type": "stream",
       "stream": "stderr",
       "text": [
        "\n",
        "\tPre-training layer [2], epoch 6, cost 0.0020332m, time is 0.34"
       ]
      },
      {
       "output_type": "stream",
       "stream": "stderr",
       "text": [
        "\n",
        "\tPre-training layer [2], epoch 7, cost 0.0020311m, time is 0.34"
       ]
      },
      {
       "output_type": "stream",
       "stream": "stderr",
       "text": [
        "\n",
        "\tPre-training layer [2], epoch 8, cost 0.0020240m, time is 0.34"
       ]
      },
      {
       "output_type": "stream",
       "stream": "stderr",
       "text": [
        "\n",
        "\tPre-training layer [2], epoch 9, cost 0.0020219m, time is 0.34"
       ]
      },
      {
       "output_type": "stream",
       "stream": "stderr",
       "text": [
        "\n",
        "\tPre-training layer [2], epoch 10, cost 0.0020138m, time is 0.33"
       ]
      },
      {
       "output_type": "stream",
       "stream": "stderr",
       "text": [
        "\n",
        "\tPre-training layer [2], epoch 11, cost 0.0020183m, time is 0.34"
       ]
      },
      {
       "output_type": "stream",
       "stream": "stderr",
       "text": [
        "\n",
        "\tPre-training layer [2], epoch 12, cost 0.0020147m, time is 0.34"
       ]
      },
      {
       "output_type": "stream",
       "stream": "stderr",
       "text": [
        "\n",
        "\tPre-training layer [2], epoch 13, cost 0.0020164m, time is 0.34"
       ]
      },
      {
       "output_type": "stream",
       "stream": "stderr",
       "text": [
        "\n",
        "\tPre-training layer [2], epoch 14, cost 0.0020190m, time is 0.34"
       ]
      },
      {
       "output_type": "stream",
       "stream": "stderr",
       "text": [
        "\n",
        "\tPre-training layer [2], epoch 15, cost 0.0020132m, time is 0.35"
       ]
      },
      {
       "output_type": "stream",
       "stream": "stderr",
       "text": [
        "\n",
        "\tPre-training layer [2], epoch 16, cost 0.0020149m, time is 0.34"
       ]
      },
      {
       "output_type": "stream",
       "stream": "stderr",
       "text": [
        "\n",
        "\tPre-training layer [2], epoch 17, cost 0.0020103m, time is 0.35"
       ]
      },
      {
       "output_type": "stream",
       "stream": "stderr",
       "text": [
        "\n",
        "\tPre-training layer [2], epoch 18, cost 0.0020111m, time is 0.34"
       ]
      },
      {
       "output_type": "stream",
       "stream": "stderr",
       "text": [
        "\n",
        "\tPre-training layer [2], epoch 19, cost 0.0020065m, time is 0.34"
       ]
      },
      {
       "output_type": "stream",
       "stream": "stderr",
       "text": [
        "\n",
        "\tPre-training layer [2], epoch 20, cost 0.0020112m, time is 0.35"
       ]
      },
      {
       "output_type": "stream",
       "stream": "stderr",
       "text": [
        "\n",
        "\tPre-training layer [2], epoch 21, cost 0.0020123m, time is 0.34"
       ]
      },
      {
       "output_type": "stream",
       "stream": "stderr",
       "text": [
        "\n",
        "\tPre-training layer [2], epoch 22, cost 0.0020083m, time is 0.34"
       ]
      },
      {
       "output_type": "stream",
       "stream": "stderr",
       "text": [
        "\n",
        "\tPre-training layer [2], epoch 23, cost 0.0020128m, time is 0.35"
       ]
      },
      {
       "output_type": "stream",
       "stream": "stderr",
       "text": [
        "\n",
        "\tPre-training layer [2], epoch 24, cost 0.0020113m, time is 0.34"
       ]
      },
      {
       "output_type": "stream",
       "stream": "stderr",
       "text": [
        "\n",
        "\tPre-training layer [2], epoch 25, cost 0.0020081m, time is 0.34"
       ]
      },
      {
       "output_type": "stream",
       "stream": "stderr",
       "text": [
        "\n",
        "\tPre-training layer [2], epoch 26, cost 0.0020060m, time is 0.35"
       ]
      },
      {
       "output_type": "stream",
       "stream": "stderr",
       "text": [
        "\n",
        "\tPre-training layer [2], epoch 27, cost 0.0020058m, time is 0.34"
       ]
      },
      {
       "output_type": "stream",
       "stream": "stderr",
       "text": [
        "\n",
        "\tPre-training layer [2], epoch 28, cost 0.0020073m, time is 0.33"
       ]
      },
      {
       "output_type": "stream",
       "stream": "stderr",
       "text": [
        "\n",
        "\tPre-training layer [2], epoch 29, cost 0.0020106m, time is 0.35"
       ]
      },
      {
       "output_type": "stream",
       "stream": "stderr",
       "text": [
        "\n",
        "\tPre-training layer [2], epoch 30, cost 0.0020091m, time is 0.34"
       ]
      },
      {
       "output_type": "stream",
       "stream": "stderr",
       "text": [
        "\n",
        "\tPre-training layer [2], epoch 31, cost 0.0020059m, time is 0.33"
       ]
      },
      {
       "output_type": "stream",
       "stream": "stderr",
       "text": [
        "\n",
        "\tPre-training layer [2], epoch 32, cost 0.0020100m, time is 0.34"
       ]
      },
      {
       "output_type": "stream",
       "stream": "stderr",
       "text": [
        "\n",
        "\tPre-training layer [2], epoch 33, cost 0.0020022m, time is 0.34"
       ]
      },
      {
       "output_type": "stream",
       "stream": "stderr",
       "text": [
        "\n",
        "\tPre-training layer [2], epoch 34, cost 0.0020056m, time is 0.34"
       ]
      },
      {
       "output_type": "stream",
       "stream": "stderr",
       "text": [
        "\n",
        "\tPre-training layer [2], epoch 35, cost 0.0020051m, time is 0.34"
       ]
      },
      {
       "output_type": "stream",
       "stream": "stderr",
       "text": [
        "\n",
        "\tPre-training layer [2], epoch 36, cost 0.0020071m, time is 0.34"
       ]
      },
      {
       "output_type": "stream",
       "stream": "stderr",
       "text": [
        "\n",
        "\tPre-training layer [2], epoch 37, cost 0.0020047m, time is 0.33"
       ]
      },
      {
       "output_type": "stream",
       "stream": "stderr",
       "text": [
        "\n",
        "\tPre-training layer [2], epoch 38, cost 0.0020026m, time is 0.34"
       ]
      },
      {
       "output_type": "stream",
       "stream": "stderr",
       "text": [
        "\n",
        "\tPre-training layer [2], epoch 39, cost 0.0020091m, time is 0.34"
       ]
      },
      {
       "output_type": "stream",
       "stream": "stderr",
       "text": [
        "\n",
        "\tPre-training layer [2], epoch 40, cost 0.0019994m, time is 0.34"
       ]
      },
      {
       "output_type": "stream",
       "stream": "stderr",
       "text": [
        "\n",
        "\tPre-training layer [2], epoch 41, cost 0.0020014m, time is 0.34"
       ]
      },
      {
       "output_type": "stream",
       "stream": "stderr",
       "text": [
        "\n",
        "\tPre-training layer [2], epoch 42, cost 0.0020045m, time is 0.34"
       ]
      },
      {
       "output_type": "stream",
       "stream": "stderr",
       "text": [
        "\n",
        "\tPre-training layer [2], epoch 43, cost 0.0020015m, time is 0.34"
       ]
      },
      {
       "output_type": "stream",
       "stream": "stderr",
       "text": [
        "\n",
        "\tPre-training layer [2], epoch 44, cost 0.0020061m, time is 0.35"
       ]
      },
      {
       "output_type": "stream",
       "stream": "stderr",
       "text": [
        "\n",
        "\tPre-training layer [2], epoch 45, cost 0.0020037m, time is 0.35"
       ]
      },
      {
       "output_type": "stream",
       "stream": "stderr",
       "text": [
        "\n",
        "\tPre-training layer [2], epoch 46, cost 0.0020010m, time is 0.35"
       ]
      },
      {
       "output_type": "stream",
       "stream": "stderr",
       "text": [
        "\n",
        "\tPre-training layer [2], epoch 47, cost 0.0020068m, time is 0.34"
       ]
      },
      {
       "output_type": "stream",
       "stream": "stderr",
       "text": [
        "\n",
        "\tPre-training layer [2], epoch 48, cost 0.0020030m, time is 0.33"
       ]
      },
      {
       "output_type": "stream",
       "stream": "stderr",
       "text": [
        "\n",
        "\tPre-training layer [2], epoch 49, cost 0.0020040m, time is 0.33"
       ]
      },
      {
       "output_type": "stream",
       "stream": "stdout",
       "text": [
        "\n",
        "... finetuning the model"
       ]
      },
      {
       "output_type": "stream",
       "stream": "stderr",
       "text": [
        "\n",
        "Total time for pretraining: 2558.70 seconds\n",
        "\tFine-tuning epoch 0, cost is "
       ]
      },
      {
       "output_type": "stream",
       "stream": "stderr",
       "text": [
        " nan\n",
        "\tFine-tuning epoch 20, cost is "
       ]
      },
      {
       "output_type": "stream",
       "stream": "stderr",
       "text": [
        " nan\n",
        "\tFine-tuning epoch 40, cost is "
       ]
      },
      {
       "output_type": "stream",
       "stream": "stderr",
       "text": [
        " nan\n",
        "Total time for fine-tuning: 9.99 seconds"
       ]
      },
      {
       "output_type": "stream",
       "stream": "stdout",
       "text": [
        "\n",
        "... predicting test dataset"
       ]
      },
      {
       "output_type": "stream",
       "stream": "stderr",
       "text": [
        "\n",
        "0.085"
       ]
      },
      {
       "output_type": "stream",
       "stream": "stdout",
       "text": [
        "\n"
       ]
      },
      {
       "output_type": "stream",
       "stream": "stderr",
       "text": [
        "\n"
       ]
      }
     ],
     "prompt_number": 82
    },
    {
     "cell_type": "code",
     "collapsed": false,
     "input": [
      "import numpy\n",
      "import PIL.Image\n",
      "mat = numpy.matrix(\"1 2 3; 4 5 6; 7 8 9\")\n",
      "mat.dump(\"my_matrix.dat\")\n",
      "mat2 = numpy.load(\"my_matrix.dat\")\n",
      "img = PIL.Image.fromarray(mat2 / 256)\n",
      "img.show()\n",
      "print mat2"
     ],
     "language": "python",
     "metadata": {},
     "outputs": [
      {
       "output_type": "stream",
       "stream": "stdout",
       "text": [
        "[[1 2 3]\n",
        " [4 5 6]\n",
        " [7 8 9]]\n"
       ]
      }
     ],
     "prompt_number": 7
    },
    {
     "cell_type": "code",
     "collapsed": false,
     "input": [
      "a = numpy.load('result/weight_at_layer_1.txt')\n",
      "print a.shape\n",
      "print a[0]"
     ],
     "language": "python",
     "metadata": {},
     "outputs": [
      {
       "output_type": "stream",
       "stream": "stdout",
       "text": [
        "(1000L, 500L)\n",
        "[  5.46677855e-03  -1.99253161e-02  -2.41024569e-02  -3.29964280e-02\n",
        "  -5.54437629e-02  -2.31081085e-02   8.96381582e-03   4.54501038e-03\n",
        "  -1.68933918e-02  -6.47183910e-03  -7.34597001e-03  -1.39032409e-02\n",
        "   1.87792972e-02   1.34018065e-04  -1.20857709e-02  -1.11234151e-02\n",
        "  -8.26717710e-03   9.05722300e-03   1.37884542e-02  -2.80614016e-02\n",
        "   3.36381259e-02   8.57774847e-03   1.02253338e-02  -2.87791632e-02\n",
        "   8.93197649e-03   4.20904601e-03   4.33294091e-03  -3.98664971e-03\n",
        "  -2.62387454e-02   2.45164073e-02   1.37283122e-02  -2.95852211e-04\n",
        "  -6.91285901e-03   1.47077361e-02  -1.68442721e-02  -1.74631575e-02\n",
        "  -4.67824876e-02  -2.39063109e-02  -2.36747120e-02  -3.22487252e-02\n",
        "  -6.35935178e-03  -2.57976436e-02  -3.52516936e-02   1.66782087e-02\n",
        "  -3.17459625e-02  -2.25000661e-02  -1.56045226e-02  -1.76198981e-02\n",
        "  -2.20569608e-02   2.10407386e-02  -1.59228984e-03   1.50640850e-03\n",
        "  -1.28527300e-02  -1.83521721e-02   4.95190488e-02  -2.69661367e-02\n",
        "  -1.05854191e-02  -1.54679718e-02  -3.47751323e-03  -3.29945319e-02\n",
        "  -2.51132762e-02  -1.69203007e-02  -5.06879968e-02   7.02146401e-04\n",
        "  -2.33572259e-02  -2.61567186e-02  -3.41764141e-03  -4.50663425e-03\n",
        "  -3.13437959e-02   8.31079300e-03  -3.75722172e-03  -3.96363094e-02\n",
        "  -1.50213920e-02  -3.34020768e-02  -2.95298441e-03   2.21224070e-02\n",
        "  -2.90121304e-02   4.85428490e-04  -2.80605750e-02  -1.07189048e-02\n",
        "  -2.70791082e-02  -2.82557570e-02  -6.40623111e-02  -2.99892613e-02\n",
        "  -1.77987979e-02  -3.08467848e-02   2.44601019e-02  -4.64151139e-03\n",
        "  -2.71319153e-02   1.55138823e-02  -1.96109326e-02  -1.43611544e-02\n",
        "  -2.42522148e-02  -1.60415387e-02   1.09596563e-02  -5.91681159e-03\n",
        "  -2.81011875e-02  -2.07177143e-03   1.11806147e-02  -1.25920377e-03\n",
        "  -5.56774172e-02  -4.69852332e-02  -9.83154474e-03  -3.62678770e-02\n",
        "  -2.46418426e-02  -1.54827044e-02  -2.72698942e-03  -6.62123897e-03\n",
        "  -2.21603250e-02  -8.74841186e-04  -4.98422511e-02  -1.83329117e-02\n",
        "  -1.85563122e-02  -6.60470259e-03  -1.37247787e-02  -3.39860729e-02\n",
        "  -1.37270346e-02  -5.14886523e-02  -2.51754827e-02  -2.81450722e-02\n",
        "   1.77825922e-02  -4.94386920e-02  -2.54304654e-02  -2.38557909e-03\n",
        "  -1.34406269e-02  -5.26583491e-02  -3.55350198e-03  -2.79536689e-02\n",
        "   1.70509148e-02   1.00478353e-03   4.64166334e-03  -1.09642558e-02\n",
        "  -6.85985403e-03  -2.14671340e-02   4.89937639e-03  -2.45116334e-02\n",
        "  -1.88788504e-02  -2.64878467e-03   8.90401705e-03  -4.30984829e-02\n",
        "  -2.22443716e-02   4.80754924e-04   7.97134061e-03   1.17613534e-02\n",
        "  -1.95216752e-02  -2.89549418e-02   1.64824331e-02  -3.62678548e-03\n",
        "   2.07120554e-02   2.19930863e-02  -2.75419985e-02  -1.20075291e-02\n",
        "   6.12111685e-03  -3.37895391e-02  -2.30398311e-02  -3.57709258e-02\n",
        "   3.23507768e-02  -1.41052104e-02   1.09527792e-02   2.53824039e-02\n",
        "  -2.01811388e-03  -3.81386962e-03   6.73153060e-03   5.05896462e-04\n",
        "   2.69720002e-03  -6.94657477e-02  -4.87308674e-02  -1.23529935e-02\n",
        "  -1.51943379e-02   1.16228054e-02  -2.20577546e-02  -1.27486522e-02\n",
        "  -1.50391251e-02  -2.11064523e-02  -1.07237220e-02   4.07467957e-03\n",
        "   2.02676157e-02  -1.94986184e-03  -4.83590380e-02  -3.96424937e-02\n",
        "  -3.37379862e-02  -4.23177486e-02  -5.58379255e-02  -5.90877882e-03\n",
        "   3.10154561e-02  -4.12326876e-02  -2.27496409e-02  -5.60499682e-03\n",
        "  -1.12298873e-02  -1.12857930e-02  -1.58722367e-02   9.71101740e-03\n",
        "  -9.93343874e-03  -1.76174532e-02  -1.36658555e-02  -7.39478494e-04\n",
        "  -2.67178932e-02  -2.13375385e-02   1.60564741e-02   2.12930890e-02\n",
        "  -2.32498992e-02   6.80534964e-03  -3.35839142e-02  -3.41356318e-02\n",
        "  -1.81766102e-02  -8.20090831e-03  -7.07352646e-03  -2.78037917e-02\n",
        "   1.85781576e-02  -5.88498655e-05   4.25656829e-03  -2.92876901e-02\n",
        "  -2.62082098e-02  -2.07766107e-03   2.00622489e-02  -1.55585584e-02\n",
        "  -1.64075960e-02  -3.17927794e-02  -6.71745692e-03  -1.55241808e-02\n",
        "  -3.35648206e-03  -6.02051448e-03   4.47974659e-03   3.37284685e-03\n",
        "   8.54559742e-03   1.40544129e-02  -2.68842312e-02  -1.92571703e-02\n",
        "  -3.63689413e-02  -9.50432334e-03  -2.41693820e-02  -1.74525255e-02\n",
        "  -2.92701535e-02   1.38832847e-02   1.08598505e-02  -1.07009938e-02\n",
        "  -2.55104577e-02  -2.74033920e-02  -4.16589206e-02  -1.73429330e-02\n",
        "  -7.78691007e-02   5.28516806e-04  -1.19907011e-02  -5.55341517e-03\n",
        "   7.40545885e-03   1.88825734e-02  -2.98817591e-02  -3.70833036e-02\n",
        "  -9.88133728e-03  -4.55022040e-02  -2.63219656e-02   1.10737069e-04\n",
        "  -2.18221627e-03  -1.29316408e-02  -2.87923610e-02   5.90570261e-03\n",
        "  -2.09344325e-02  -4.98063091e-03  -3.20846028e-02  -2.33411795e-02\n",
        "   2.16770133e-02   1.50575041e-02  -2.44246531e-03  -3.35576403e-02\n",
        "  -1.16157547e-02   2.58684246e-02   2.34810182e-02  -3.73709872e-02\n",
        "   1.94401029e-02  -8.88399379e-03  -3.26760999e-02  -8.03065209e-03\n",
        "  -2.27036108e-02  -4.74252357e-03  -1.45296267e-02  -5.60392831e-03\n",
        "  -2.02016624e-02   2.30334550e-03  -2.38652086e-02   7.95812097e-03\n",
        "  -2.63941589e-02  -1.46322776e-02   2.94180190e-03  -2.73524369e-02\n",
        "  -2.61445132e-02   6.49348157e-03  -3.24826132e-02  -3.16138197e-02\n",
        "   8.78434510e-03  -3.64267484e-02  -2.47523635e-02   3.79662748e-02\n",
        "  -2.26368325e-02  -2.29666467e-02  -2.32042271e-02  -1.52184698e-02\n",
        "  -1.46522277e-02  -1.78766569e-02  -2.48141605e-02  -2.07513121e-02\n",
        "  -3.61267979e-02   5.06031723e-03  -2.66662616e-02  -1.42007131e-02\n",
        "  -2.27522703e-02   5.49999998e-04  -1.46724795e-02   1.80006866e-02\n",
        "  -3.41620416e-02   5.72934393e-03   2.04863053e-02  -1.98039575e-02\n",
        "  -1.80588431e-02  -3.34059632e-02   1.28206974e-02  -2.95476193e-02\n",
        "  -9.94383500e-03  -3.23085679e-02   2.79902115e-04  -7.39098791e-03\n",
        "   1.16502351e-02  -3.71945412e-02  -4.60702091e-03  -8.09190808e-03\n",
        "  -3.54662227e-02  -1.27190972e-02   9.90786089e-03   1.54377904e-03\n",
        "   7.73638547e-04   3.37531962e-03  -1.85493898e-02  -9.78741475e-03\n",
        "   2.61100862e-02   2.03817603e-02   1.87999969e-02   9.44650088e-03\n",
        "   1.81885912e-02  -1.22885753e-02  -1.20597899e-02  -8.52035676e-03\n",
        "   1.14447760e-02   5.98637981e-03  -2.96122691e-03  -5.10064691e-02\n",
        "  -2.10029750e-02   6.18152902e-03  -1.31869299e-02   2.02753754e-03\n",
        "  -1.33244238e-02  -1.44424227e-02  -6.30001631e-02  -4.75481558e-03\n",
        "  -1.14986234e-02  -3.41695062e-02  -4.60869825e-03   8.14830300e-04\n",
        "   5.51551295e-03   1.23158308e-02   7.57206835e-04  -1.77256576e-02\n",
        "  -8.90675876e-03  -1.42093441e-02  -6.71396257e-03   8.25645615e-03\n",
        "   1.46054256e-02  -2.32850256e-02   3.23549827e-03  -1.51657036e-02\n",
        "  -2.81551101e-02  -3.35030608e-02  -9.56906553e-03  -1.08937044e-02\n",
        "  -2.62502429e-02  -2.08384773e-02   1.96832378e-03  -1.74937742e-02\n",
        "  -4.65746028e-02   1.20639216e-02  -1.06669062e-02  -1.53119550e-02\n",
        "  -3.53385196e-02  -1.15799997e-02   3.72445394e-02  -2.75031332e-02\n",
        "  -5.40195891e-02   7.40585364e-03  -6.17885233e-03  -1.59145023e-02\n",
        "  -3.23395022e-02   3.25654658e-03   2.15090938e-02   2.26466863e-03\n",
        "  -4.55685735e-03  -1.19492764e-02  -3.08346153e-02  -1.11172396e-02\n",
        "  -5.54295981e-02  -1.96446308e-02  -1.67781520e-02  -6.75939117e-04\n",
        "  -3.29154725e-02  -1.15326037e-02   1.37914583e-02  -3.15066117e-02\n",
        "  -1.83899727e-02  -5.68691431e-02   4.83494261e-03  -4.27692008e-02\n",
        "  -4.21685144e-03  -2.63276406e-02   2.93383276e-02  -8.67314716e-03\n",
        "  -3.28477964e-03  -1.75543650e-02  -5.10006163e-02   1.61801241e-02\n",
        "  -7.03144988e-04  -3.85582250e-03  -1.53098390e-02  -2.15684251e-02\n",
        "   8.08821872e-03   3.39302630e-02  -1.21094351e-02  -2.16269160e-02\n",
        "  -4.16635411e-03   4.32435165e-03   1.52449237e-02   1.85915694e-02\n",
        "  -3.25366468e-03   2.21038413e-03  -1.52454591e-02  -1.70385234e-02\n",
        "  -1.62489799e-03   1.36580321e-02  -1.85770170e-02   2.76132616e-03\n",
        "  -2.34054516e-02  -1.02693688e-02  -4.62815295e-02  -3.72302285e-02\n",
        "  -3.28405939e-02  -1.40052005e-02  -2.30979190e-02  -5.44615583e-02\n",
        "  -4.59099681e-02   2.23174579e-02  -2.39259868e-02  -1.40457763e-02\n",
        "  -2.75142409e-02  -2.94311687e-02  -1.41743479e-02  -3.30616763e-02\n",
        "  -1.09002716e-02  -8.00988500e-03  -8.23144141e-03   1.04040632e-02\n",
        "  -4.54931142e-02   1.04830625e-03   9.15774700e-03   1.31569069e-03\n",
        "   1.79919317e-03  -7.04897756e-03  -9.92997856e-03   2.42628771e-02\n",
        "  -2.74276131e-02  -3.04932343e-02  -7.14978608e-03  -6.02937941e-03\n",
        "  -2.71238649e-03  -4.14561236e-02  -3.17942750e-02  -9.87034338e-03\n",
        "  -2.46964303e-02   3.36904273e-03  -2.53886925e-02  -1.92080540e-03\n",
        "   4.05371591e-04  -2.78506580e-02  -4.04326089e-02   1.99575201e-02\n",
        "  -2.54791977e-02  -3.93254037e-02   7.88107412e-04  -3.80054295e-02\n",
        "  -1.19775514e-02   5.50207819e-03   9.51289314e-03   7.06625238e-03\n",
        "  -5.74477101e-02  -1.45232034e-02   2.61763861e-03   4.29571847e-03\n",
        "  -3.61228430e-02  -3.29158112e-02   5.15062977e-03  -3.85838792e-02\n",
        "  -4.38075000e-02  -2.38909916e-02  -4.91609864e-02  -1.16648659e-02]\n"
       ]
      }
     ],
     "prompt_number": 10
    },
    {
     "cell_type": "code",
     "collapsed": false,
     "input": [
      "def scale_to_unit_interval(ndar, eps=1e-8):\n",
      "    \"\"\" Scales all values in the ndarray ndar to be between 0 and 1 \"\"\"\n",
      "    ndar = ndar.copy()\n",
      "    ndar -= ndar.min()\n",
      "    ndar *= 1.0 / (ndar.max() + eps)\n",
      "    return ndar\n",
      "\n",
      "a = numpy.load('result/weight_at_layer_0.txt')\n",
      "print a.shape\n",
      "b = a[:,].reshape(28,28)\n",
      "print b.shape\n",
      "# img = PIL.Image.fromarray(scale_to_unit_interval(a.T) * 255)\n",
      "# img.show()\n"
     ],
     "language": "python",
     "metadata": {},
     "outputs": [
      {
       "output_type": "stream",
       "stream": "stdout",
       "text": [
        "(500L, 784L)\n"
       ]
      },
      {
       "ename": "ValueError",
       "evalue": "total size of new array must be unchanged",
       "output_type": "pyerr",
       "traceback": [
        "\u001b[1;31m---------------------------------------------------------------------------\u001b[0m\n\u001b[1;31mValueError\u001b[0m                                Traceback (most recent call last)",
        "\u001b[1;32m<ipython-input-33-faeb332167c1>\u001b[0m in \u001b[0;36m<module>\u001b[1;34m()\u001b[0m\n\u001b[0;32m      8\u001b[0m \u001b[0ma\u001b[0m \u001b[1;33m=\u001b[0m \u001b[0mnumpy\u001b[0m\u001b[1;33m.\u001b[0m\u001b[0mload\u001b[0m\u001b[1;33m(\u001b[0m\u001b[1;34m'result/weight_at_layer_0.txt'\u001b[0m\u001b[1;33m)\u001b[0m\u001b[1;33m\u001b[0m\u001b[0m\n\u001b[0;32m      9\u001b[0m \u001b[1;32mprint\u001b[0m \u001b[0ma\u001b[0m\u001b[1;33m.\u001b[0m\u001b[0mshape\u001b[0m\u001b[1;33m\u001b[0m\u001b[0m\n\u001b[1;32m---> 10\u001b[1;33m \u001b[0mb\u001b[0m \u001b[1;33m=\u001b[0m \u001b[0ma\u001b[0m\u001b[1;33m[\u001b[0m\u001b[1;33m:\u001b[0m\u001b[1;33m,\u001b[0m\u001b[1;33m]\u001b[0m\u001b[1;33m.\u001b[0m\u001b[0mreshape\u001b[0m\u001b[1;33m(\u001b[0m\u001b[1;36m28\u001b[0m\u001b[1;33m,\u001b[0m\u001b[1;36m28\u001b[0m\u001b[1;33m)\u001b[0m\u001b[1;33m\u001b[0m\u001b[0m\n\u001b[0m\u001b[0;32m     11\u001b[0m \u001b[1;32mprint\u001b[0m \u001b[0mb\u001b[0m\u001b[1;33m.\u001b[0m\u001b[0mshape\u001b[0m\u001b[1;33m\u001b[0m\u001b[0m\n\u001b[0;32m     12\u001b[0m \u001b[1;31m# img = PIL.Image.fromarray(scale_to_unit_interval(a.T) * 255)\u001b[0m\u001b[1;33m\u001b[0m\u001b[1;33m\u001b[0m\u001b[0m\n",
        "\u001b[1;31mValueError\u001b[0m: total size of new array must be unchanged"
       ]
      }
     ],
     "prompt_number": 33
    },
    {
     "cell_type": "code",
     "collapsed": false,
     "input": [],
     "language": "python",
     "metadata": {},
     "outputs": []
    }
   ],
   "metadata": {}
  }
 ]
}